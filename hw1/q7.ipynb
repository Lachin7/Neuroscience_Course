{
 "nbformat": 4,
 "nbformat_minor": 0,
 "metadata": {
  "colab": {
   "name": "q7.ipynb",
   "provenance": []
  },
  "kernelspec": {
   "name": "python3",
   "display_name": "Python 3"
  },
  "language_info": {
   "name": "python"
  }
 },
 "cells": [
  {
   "cell_type": "markdown",
   "source": [
    "<h1 style=\"color:#2bf0b5;\"> <b>Neuroscience</b> HW1-7 - Lachin Naghashyar</h1>\n",
    "\n",
    "---\n",
    "\n",
    "<h2 style=\"color:#f06ff2;\"> <b>Statistical tests: T-test, P-value, Z-test, F-test, ... </b></h2>"
   ],
   "metadata": {
    "id": "fYohPo_Ep6r3",
    "pycharm": {
     "name": "#%% md\n"
    }
   }
  },
  {
   "cell_type": "markdown",
   "source": [
    "**T-test**: it is a type of inferential statistic used to determine how significant the differences between groups are,\n",
    "which may be related in certain features. In other words it lets you know if those differences (measured in means)\n",
    "could have happened by chance. It is mostly used when the data sets, like the data set recorded as the outcome from\n",
    "flipping a coin 100 times, would follow a normal distribution and may have unknown variances. So it is commonly\n",
    "applied when the test statistic would follow a normal distribution if the value of a scaling term in the test\n",
    "statistic were known. When the scaling term is unknown and is replaced by an estimate based on the data,\n",
    "the test statistics (under certain conditions) follow a Student's t distribution.\n",
    "\n",
    "A t-test is used as a hypothesis\n",
    "testing tool, which allows testing of an assumption applicable to a population. A t-test looks at the t-statistic,\n",
    "the t-distribution values, and the degrees of freedom to determine the statistical significance. To conduct a test\n",
    "with three or more means, one must use an analysis of variance.\n",
    "\n",
    "The T-test can be performed on a set of data that is co-related in some way; the common feature might be the age,\n",
    "area, service provision, or any such factor. Two dissimilar assumptions cannot be used for T analysis. Samples\n",
    "should be nominated randomly to deduce the result of the T-test. While the sample size should be such which looks\n",
    "like standard dispersal, with both the sets having values spread across the average value in the same proportion.\n",
    "\n",
    "The three famous types of t-Tests are; paired sample model, one sample, and independent two-sample tests.\n",
    "One-sample t-test: tests the mean of a single group against a known mean. Two-sample t-test: tests whether two\n",
    "population means are equal. Paired samples t-test: tests if two population means are equal when each observation in\n",
    "one sample can be paired with an observation in the other sample.\n",
    "\n",
    "Also Let's define some other related values:\n",
    "**T-value**: is a test statistic and is calculated from the sample data\n",
    "during hypothesis test. It is used to compare your data to what is expected. Hence, it is a ratio between the\n",
    "difference between two groups and the difference within the groups.  the measure the different The larger the t\n",
    "score, the more difference there is between groups.\n",
    "\n",
    "**P-value:** is the probability of obtaining a t-value with an absolute value at least as large as the one we actually\n",
    "observed in the sample data if the null hypothesis is actually true. In other words it is the probability that the\n",
    "result from our sample data occurred by chance. They are from 0% to 100% and are usually written as decimals. Low\n",
    "p-values are good since they show that your data didn't occur by chance. If the p-value is less than a certain\n",
    "value (e.g. 0.05) then we reject the null hypothesis of the test and it means that data is valid.\n",
    "\n",
    "\n",
    "The t-test is just one of many tests used for this purpose. Statisticians must additionally use tests other than\n",
    "the t-test to examine more variables and tests with larger sample sizes. For a large sample size, statisticians use\n",
    "a z-test. Other testing options include the chi-square test and the f-test.\n",
    "\n",
    "**Z-test:** is a statistical test to determine whether the means of two populations are different when variances are\n",
    "known and sample size is large. Compared to t-test which also examined how the means of two sets of data differ\n",
    "from one another, the variance is given in z-test whereas in t-test, it was not. Also, another difference is that\n",
    "z-test is used when the sample size is large, i.e. n > 30, and t-test is appropriate when the size of the sample is\n",
    "small. Moreover, a z-test is a hypothesis test in which the z-statistic follows a normal distribution.\n",
    "\n",
    "**F-test:** is any statistical test in which the test statistic has an F-distribution under the null hypothesis. It is\n",
    "most often used when comparing statistical models that have been fitted to a data set, in order to identify the\n",
    "model that best fits the population from which the data were sampled. It is mostly used when comparing two variances.\n",
    "However, the f-statistic is used in a variety of tests including regression analysis, the Chow test and the Scheffe Test\n",
    "\n",
    "\n",
    "\n",
    "*resources:*\n",
    "\n",
    "Introductory statistics by Thomas H. Wonnaccot\n",
    "\n",
    "https://www.statisticshowto.com/probability-and-statistics/t-test/\n",
    "https://en.wikipedia.org/wiki/Scale_parameter\n",
    "\n",
    "https://www.investopedia.com/terms/t/t-test.asp\n",
    "\n",
    "https://scandiweb.com/blog/t-tests-explained/\n",
    "\n",
    "https://www.statology.org/t-value-vs-p-value/#:~:text=For%20each%20test%2C%20the%20t,null%20hypothesis%20is%20actually%20true.\n",
    "\n",
    "https://keydifferences.com/difference-between-t-test-and-z-test.html\n",
    "\n",
    "https://en.wikipedia.org/wiki/F-test#:~:text=An%20F%2Dtest%20is%20any,which%20the%20data%20were%20sampled.\n",
    "\n",
    "https://www.statisticshowto.com/probability-and-statistics/hypothesis-testing/f-test/\n",
    "\n",
    "https://www.investopedia.com/terms/z/z-test.asp"
   ],
   "metadata": {
    "id": "qo507AqVqJxI",
    "pycharm": {
     "name": "#%% md\n"
    }
   }
  }
 ]
}