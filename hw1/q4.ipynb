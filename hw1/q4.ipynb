{
 "nbformat": 4,
 "nbformat_minor": 0,
 "metadata": {
  "colab": {
   "name": "q4.ipynb",
   "provenance": []
  },
  "kernelspec": {
   "name": "python3",
   "display_name": "Python 3"
  },
  "language_info": {
   "name": "python"
  }
 },
 "cells": [
  {
   "cell_type": "markdown",
   "source": [
    "<h1 style=\"color:#2bf0b5;\"> <b>Neuroscience</b> HW1-4 - Lachin Naghashyar</h1>\n",
    "\n",
    "---\n",
    "\n",
    "<h2 style=\"color:#f06ff2;\"> <b>Integrate and Fire Models</b></h2>"
   ],
   "metadata": {
    "id": "tBYoHL2xoAbu",
    "pycharm": {
     "name": "#%% md\n"
    }
   }
  },
  {
   "cell_type": "markdown",
   "source": [
    "Perfect Integrate-and-fire model (non-leaky integrate-and-fire): It is one of the earliest models of neuron.\n",
    "In the perfect integrate-and-fire model (PIF), the membrane voltage is proportional to the integral of the input current since the time of the previous spike.\n",
    "A neuron is represented by its membrane voltage(V) which evolves in time during stimulation with an input current I(t):\n",
    "</br>\n",
    "$ I(t) = C_m \\frac{dV(t)}{dt} $\n",
    "\n",
    "When an input current is applied, the membrane voltage increases with time until it reaches a constant threshold $V_{th}$,\n",
    "at which point a delta function spike occurs and the voltage is reset to its resting potential, after which the model continues to run.\n",
    "The firing frequency of the model thus increases linearly without bound as input current increases.\n",
    "\n",
    "\n",
    "\n",
    "leaky integrate and fire model: This model represents neuron as a combination of\n",
    "“leaky” resistor (with $g_L$ being the conductance of the membrane) and a capacitor ($C_m$).\n",
    "A current source I(t) is used as synaptic current input to charge up the capacitor to produce a potential V(t).\n",
    "Whenever the membrane potential reaches some threshold ($V_{th}$) value from below,\n",
    "the capacitor discharges to a resting potential $E_L$ using the voltage-controlled switch.\n",
    "Each time LIF neuron voltage crosses this threshold, a separate driver circuit issues a spike (firing happens).\n",
    "We can represent the corresponding equation of LIF as follows:\n",
    "</br>\n",
    "In order to obtain the corresponging equation, note that a neuron is surrounded by a cell membrane, which is a rather good insulator.\n",
    "If a short current pulse $I(t)$ is injected into the neuron, the additional electrical charge $q = \\int I (t') dt' $\n",
    "has to go somewhere: it will charge the cell membrane and the lipid bilayer acts like a capacitor of capacity $C_m$.\n",
    "Because the insulator is not perfect, the charge will, over time, slowly leak through the cell membrane.\n",
    "The cell membrane can therefore be characterized by a finite leak resistance $R$.\n",
    "We can use the law of current conservation and reach the following:\n",
    "</br>\n",
    "$ I(t) = I_R + I_C $\n",
    "Using Ohms law ($ V = I_R R $) and that $C = Q/V$ we can substitute them and have:\n",
    "$ I(t) = \\frac{V}{R} + C_m \\frac{dV}{dt} $\n",
    "\n",
    "Also, The membrane encloses a solution in which concentrations of ions are different from outside.\n",
    "This difference in ion concentrations can be modeled by a potential difference $V_{rest}$ across the membrane.\n",
    "\n",
    "$ I(t) = \\frac{V - V_{rest}}{R} + C_m \\frac{dV}{dt} $\n",
    "\n",
    "We multiply the above equation by $R$ and introduce the time constant $\\tau = R C$ of the ‘leaky integrator’.\n",
    "This yields the standard form:\n",
    "\n",
    "$ \\tau \\frac{dV}{dt} = - [v(t) - v_{rest}] + R I(t) $\n",
    "\n",
    "\n",
    "Leaky integrate-and-fire model contains, compared to the non-leaky integrate-and-fire model a\n",
    "\"leak\" term in the membrane potential equation, reflecting the diffusion of ions through the membrane.\n",
    "We can also see that the equation of the non-leaky integrate-and-fire model can be retrieved from the equation of\n",
    "leaky integrate-and-fire in the limit Rm to infinity, i.e. if the membrane is a perfect insulator.\n",
    "But we know that the membrane is not a perfect insulator and current leaks through the membrane via different channels in it.\n",
    "\n",
    "\n",
    "\n",
    "\n",
    "sources:\n",
    "\n",
    "https://en.wikipedia.org/wiki/Biological_neuron_model#:~:text=Perfect%20Integrate%2Dand%2Dfire,-One%20of%20the&text=When%20an%20input%20current%20is,the%20model%20continues%20to%20run.\n",
    "\n",
    "https://neuronaldynamics.epfl.ch/online/Ch1.S3.html\n",
    "\n",
    "https://www.nature.com/articles/s41598-017-07418-y#:~:text=Leaky%20integrate%20and%20fire%20(LIF)%20model%20represents%20neuron%20as%20a,a%20potential%20V(t).\n",
    "\n",
    "Course slides\n",
    "\n"
   ],
   "metadata": {
    "id": "KIYwm0WvoJzr",
    "pycharm": {
     "name": "#%% md\n"
    }
   }
  }
 ]
}